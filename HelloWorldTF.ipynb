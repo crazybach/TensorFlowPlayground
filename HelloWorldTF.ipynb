{
  "nbformat": 4,
  "nbformat_minor": 0,
  "metadata": {
    "colab": {
      "name": "HelloWorldTF.ipynb",
      "version": "0.3.2",
      "provenance": [],
      "collapsed_sections": [],
      "include_colab_link": true
    },
    "kernelspec": {
      "name": "python3",
      "display_name": "Python 3"
    }
  },
  "cells": [
    {
      "cell_type": "markdown",
      "metadata": {
        "id": "view-in-github",
        "colab_type": "text"
      },
      "source": [
        "<a href=\"https://colab.research.google.com/github/crazybach/TensorFlowPlayground/blob/master/HelloWorldTF.ipynb\" target=\"_parent\"><img src=\"https://colab.research.google.com/assets/colab-badge.svg\" alt=\"Open In Colab\"/></a>"
      ]
    },
    {
      "metadata": {
        "id": "X3vIy6eggMt-",
        "colab_type": "text"
      },
      "cell_type": "markdown",
      "source": [
        "Install TF 2.0"
      ]
    },
    {
      "metadata": {
        "id": "6Z-ZdM5_fU5C",
        "colab_type": "code",
        "outputId": "c35cf96a-8c77-4a65-ae89-63c1ba525acc",
        "colab": {
          "base_uri": "https://localhost:8080/",
          "height": 510
        }
      },
      "cell_type": "code",
      "source": [
        "pip install tf-nightly-2.0-preview"
      ],
      "execution_count": 0,
      "outputs": [
        {
          "output_type": "stream",
          "text": [
            "Collecting tf-nightly-2.0-preview\n",
            "\u001b[?25l  Downloading https://files.pythonhosted.org/packages/51/9d/5b4d7fbf2e4a3730dde312e0362991e6d1cdc9312244b3ebe88268e2d08c/tf_nightly_2.0_preview-2.0.0.dev20190320-cp36-cp36m-manylinux1_x86_64.whl (80.2MB)\n",
            "\u001b[K    100% |████████████████████████████████| 80.2MB 334kB/s \n",
            "\u001b[?25hCollecting tensorflow-estimator-2.0-preview (from tf-nightly-2.0-preview)\n",
            "\u001b[?25l  Downloading https://files.pythonhosted.org/packages/01/cd/eb5b6c9bfad9b39b771726d2759bd9792056a39dba6bbfce3d86336376b7/tensorflow_estimator_2.0_preview-1.14.0.dev2019032000-py2.py3-none-any.whl (351kB)\n",
            "\u001b[K    100% |████████████████████████████████| 358kB 19.9MB/s \n",
            "\u001b[?25hRequirement already satisfied: protobuf>=3.6.1 in /usr/local/lib/python3.6/dist-packages (from tf-nightly-2.0-preview) (3.7.0)\n",
            "Requirement already satisfied: astor>=0.6.0 in /usr/local/lib/python3.6/dist-packages (from tf-nightly-2.0-preview) (0.7.1)\n",
            "Requirement already satisfied: gast>=0.2.0 in /usr/local/lib/python3.6/dist-packages (from tf-nightly-2.0-preview) (0.2.2)\n",
            "Requirement already satisfied: wheel>=0.26 in /usr/local/lib/python3.6/dist-packages (from tf-nightly-2.0-preview) (0.33.1)\n",
            "Requirement already satisfied: termcolor>=1.1.0 in /usr/local/lib/python3.6/dist-packages (from tf-nightly-2.0-preview) (1.1.0)\n",
            "Collecting tb-nightly<1.15.0a0,>=1.14.0a0 (from tf-nightly-2.0-preview)\n",
            "\u001b[?25l  Downloading https://files.pythonhosted.org/packages/5d/17/a3d05a0664c11703259aa79d2b58b871b3bb1fff24153f75db04540489db/tb_nightly-1.14.0a20190319-py3-none-any.whl (3.0MB)\n",
            "\u001b[K    100% |████████████████████████████████| 3.0MB 7.8MB/s \n",
            "\u001b[?25hRequirement already satisfied: numpy<2.0,>=1.14.5 in /usr/local/lib/python3.6/dist-packages (from tf-nightly-2.0-preview) (1.14.6)\n",
            "Requirement already satisfied: keras-preprocessing>=1.0.5 in /usr/local/lib/python3.6/dist-packages (from tf-nightly-2.0-preview) (1.0.9)\n",
            "Requirement already satisfied: keras-applications>=1.0.6 in /usr/local/lib/python3.6/dist-packages (from tf-nightly-2.0-preview) (1.0.7)\n",
            "Requirement already satisfied: absl-py>=0.7.0 in /usr/local/lib/python3.6/dist-packages (from tf-nightly-2.0-preview) (0.7.0)\n",
            "Collecting google-pasta>=0.1.2 (from tf-nightly-2.0-preview)\n",
            "\u001b[?25l  Downloading https://files.pythonhosted.org/packages/8c/96/adbd4eafe72ce9b5ca6f168fbf109386e1b601f7c59926a11e9d7b7a5b44/google_pasta-0.1.4-py3-none-any.whl (51kB)\n",
            "\u001b[K    100% |████████████████████████████████| 61kB 21.1MB/s \n",
            "\u001b[?25hRequirement already satisfied: grpcio>=1.8.6 in /usr/local/lib/python3.6/dist-packages (from tf-nightly-2.0-preview) (1.15.0)\n",
            "Requirement already satisfied: six>=1.10.0 in /usr/local/lib/python3.6/dist-packages (from tf-nightly-2.0-preview) (1.11.0)\n",
            "Requirement already satisfied: setuptools in /usr/local/lib/python3.6/dist-packages (from protobuf>=3.6.1->tf-nightly-2.0-preview) (40.8.0)\n",
            "Requirement already satisfied: werkzeug>=0.11.15 in /usr/local/lib/python3.6/dist-packages (from tb-nightly<1.15.0a0,>=1.14.0a0->tf-nightly-2.0-preview) (0.14.1)\n",
            "Requirement already satisfied: markdown>=2.6.8 in /usr/local/lib/python3.6/dist-packages (from tb-nightly<1.15.0a0,>=1.14.0a0->tf-nightly-2.0-preview) (3.0.1)\n",
            "Requirement already satisfied: h5py in /usr/local/lib/python3.6/dist-packages (from keras-applications>=1.0.6->tf-nightly-2.0-preview) (2.8.0)\n",
            "Installing collected packages: tensorflow-estimator-2.0-preview, tb-nightly, google-pasta, tf-nightly-2.0-preview\n",
            "Successfully installed google-pasta-0.1.4 tb-nightly-1.14.0a20190319 tensorflow-estimator-2.0-preview-1.14.0.dev2019032000 tf-nightly-2.0-preview-2.0.0.dev20190320\n"
          ],
          "name": "stdout"
        }
      ]
    },
    {
      "metadata": {
        "id": "bmoXHF2hpyHJ",
        "colab_type": "text"
      },
      "cell_type": "markdown",
      "source": [
        "load minst datasets"
      ]
    },
    {
      "metadata": {
        "id": "y7TjKaPLhVJX",
        "colab_type": "code",
        "colab": {}
      },
      "cell_type": "code",
      "source": [
        "import tensorflow as tf\n",
        "minst = tf.keras.datasets.mnist"
      ],
      "execution_count": 0,
      "outputs": []
    },
    {
      "metadata": {
        "id": "Y12_P7QIqhKI",
        "colab_type": "text"
      },
      "cell_type": "markdown",
      "source": [
        "buidl input data"
      ]
    },
    {
      "metadata": {
        "id": "lB9Duh1_qkFV",
        "colab_type": "code",
        "colab": {}
      },
      "cell_type": "code",
      "source": [
        "(x_train, y_train),(x_test, y_test) = minst.load_data();\n",
        "x_train, x_test = x_train/255, x_test/255;\n"
      ],
      "execution_count": 0,
      "outputs": []
    },
    {
      "metadata": {
        "id": "fZMRpczrrO9X",
        "colab_type": "text"
      },
      "cell_type": "markdown",
      "source": [
        "create keras model"
      ]
    },
    {
      "metadata": {
        "id": "gJFlxeSUrR7Z",
        "colab_type": "code",
        "outputId": "76129a06-d98b-4072-a6f8-b3a177c7b5bb",
        "colab": {
          "base_uri": "https://localhost:8080/",
          "height": 204
        }
      },
      "cell_type": "code",
      "source": [
        "model = tf.keras.models.Sequential([\n",
        "    tf.keras.layers.Flatten(input_shape = (28,28)),\n",
        "    tf.keras.layers.Dense(512, activation=tf.nn.relu),\n",
        "    tf.keras.layers.Dropout(0.2),\n",
        "    tf.keras.layers.Dense(10, activation=tf.nn.softmax)\n",
        "])\n",
        "model.compile(optimizer=\"adam\",\n",
        "             loss='sparse_categorical_crossentropy',\n",
        "              metrics=['accuracy'])\n",
        "\n",
        "model.fit(x_train, y_train,epochs=5)\n",
        "model.evaluate(x_test, y_test);\n"
      ],
      "execution_count": 0,
      "outputs": [
        {
          "output_type": "stream",
          "text": [
            "Epoch 1/5\n",
            "60000/60000 [==============================] - 13s 220us/sample - loss: 0.2199 - accuracy: 0.9354\n",
            "Epoch 2/5\n",
            "60000/60000 [==============================] - 13s 212us/sample - loss: 0.0972 - accuracy: 0.9698\n",
            "Epoch 3/5\n",
            "60000/60000 [==============================] - 13s 211us/sample - loss: 0.0682 - accuracy: 0.9786\n",
            "Epoch 4/5\n",
            "60000/60000 [==============================] - 13s 209us/sample - loss: 0.0530 - accuracy: 0.9834\n",
            "Epoch 5/5\n",
            "60000/60000 [==============================] - 13s 211us/sample - loss: 0.0436 - accuracy: 0.9861\n",
            "10000/10000 [==============================] - 1s 96us/sample - loss: 0.0664 - accuracy: 0.9802\n"
          ],
          "name": "stdout"
        }
      ]
    }
  ]
}